{
 "cells": [
  {
   "cell_type": "code",
   "execution_count": 1,
   "metadata": {},
   "outputs": [],
   "source": [
    "import spacy\n",
    "from spacy.lang.en.stop_words import STOP_WORDS\n",
    "from sklearn.neighbors import NearestNeighbors\n",
    "import re\n",
    "import numpy as np\n",
    "import json\n",
    "import random"
   ]
  },
  {
   "cell_type": "code",
   "execution_count": 2,
   "metadata": {},
   "outputs": [],
   "source": [
    "DATASET_PATH = \"data/News_Category_Dataset_v2.json\""
   ]
  },
  {
   "cell_type": "code",
   "execution_count": 3,
   "metadata": {},
   "outputs": [],
   "source": [
    "def sample_news_dataset(k=5000, search_for=\"headline\"):\n",
    "    news = []\n",
    "    for line in open(DATASET_PATH, 'r'):\n",
    "        news.append(json.loads(line)[search_for])\n",
    "    return random.sample(news, k)"
   ]
  },
  {
   "cell_type": "code",
   "execution_count": 4,
   "metadata": {},
   "outputs": [],
   "source": [
    "documents = sample_news_dataset()"
   ]
  },
  {
   "cell_type": "code",
   "execution_count": 5,
   "metadata": {},
   "outputs": [],
   "source": [
    "class DocumentSearch:\n",
    "    def __init__(self, embedding_dim=300, neighbors=2, algorithm=\"ball_tree\"):\n",
    "        self.nlp = spacy.load(\"en_core_web_md\")\n",
    "        self.document_embeddings = {}\n",
    "        self.stopwords = list(STOP_WORDS)\n",
    "        self.embedding_dim = embedding_dim\n",
    "        self.neighbors = neighbors\n",
    "        self.neigh = NearestNeighbors(n_neighbors=neighbors, algorithm=algorithm)\n",
    "    \n",
    "    def process(self, doc, remove_stopwords=True):\n",
    "        doc = doc.lower()\n",
    "        doc = re.findall(r\"\\w+\", doc)\n",
    "        if remove_stopwords:\n",
    "            doc = [word for word in doc if word not in self.stopwords]\n",
    "        return \" \".join(doc)\n",
    "    \n",
    "    def tokenize(self, doc):\n",
    "        doc = self.process(doc)\n",
    "        tokens = self.nlp(doc)\n",
    "        return tokens\n",
    "    \n",
    "    def create_document_embedding(self, doc):\n",
    "        tokens = self.tokenize(doc)\n",
    "        document_embedding = np.zeros(self.embedding_dim)\n",
    "        for token in tokens:\n",
    "            document_embedding += token.vector\n",
    "        return document_embedding\n",
    "    \n",
    "    def fit_nearest_neighbors(self):\n",
    "        X = np.array(list(self.document_embeddings.values()))\n",
    "        self.neigh.fit(X)\n",
    "    \n",
    "    def fit(self, documents):\n",
    "        self.documents = documents\n",
    "        print(f\"{len(self.documents)} documents attached.\")\n",
    "        for document in self.documents:\n",
    "            document_embedding = self.create_document_embedding(document)\n",
    "            self.document_embeddings[len(self.document_embeddings)] = document_embedding \n",
    "        self.fit_nearest_neighbors()  \n",
    "        print(\"Document embeddings created.\")\n",
    "        \n",
    "    def retrive_document(self, index):\n",
    "        retrived_document = self.documents[index]\n",
    "        return retrived_document\n",
    "    \n",
    "    def print_function(self, distances, indicies):\n",
    "        print(\"Similar Documents\")\n",
    "        print(\"-------------------------------------\")\n",
    "        print(\"\\n\")\n",
    "        for i in range(self.neighbors):\n",
    "            print(f\"Document {i+1}\")\n",
    "            print(f\"Distance from the document: {distances[i]}\")\n",
    "            print(\"\\n\")\n",
    "            print(self.retrive_document(indicies[i]))\n",
    "            print(\"-------------------------------------\")\n",
    "            print(\"\\n\")\n",
    "              \n",
    "    def search(self, new_document):\n",
    "        new_document_embedding = self.create_document_embedding(new_document)\n",
    "        distances, indices = self.neigh.kneighbors([new_document_embedding])\n",
    "        self.print_function(distances[0], indices[0])"
   ]
  },
  {
   "cell_type": "code",
   "execution_count": 6,
   "metadata": {},
   "outputs": [],
   "source": [
    "doc_search = DocumentSearch()"
   ]
  },
  {
   "cell_type": "code",
   "execution_count": 7,
   "metadata": {},
   "outputs": [
    {
     "name": "stdout",
     "output_type": "stream",
     "text": [
      "5000 documents attached.\n",
      "Document embeddings created.\n"
     ]
    }
   ],
   "source": [
    "doc_search.fit(documents)"
   ]
  },
  {
   "cell_type": "code",
   "execution_count": 8,
   "metadata": {},
   "outputs": [],
   "source": [
    "new_document = \"Donald Trump Tweet Rescues 'Roseanne' And Family In Season Finale\""
   ]
  },
  {
   "cell_type": "code",
   "execution_count": 9,
   "metadata": {},
   "outputs": [
    {
     "name": "stdout",
     "output_type": "stream",
     "text": [
      "Similar Documents\n",
      "-------------------------------------\n",
      "\n",
      "\n",
      "Document 1\n",
      "Distance from the document: 18.90370558596096\n",
      "\n",
      "\n",
      "Just A Reminder, Donald Trump Actually Could Win The Election\n",
      "-------------------------------------\n",
      "\n",
      "\n",
      "Document 2\n",
      "Distance from the document: 19.43576575830994\n",
      "\n",
      "\n",
      "\"Evangelicals Love Donald Trump!\" Wait, What?\n",
      "-------------------------------------\n",
      "\n",
      "\n"
     ]
    }
   ],
   "source": [
    "doc_search.search(new_document)"
   ]
  },
  {
   "cell_type": "code",
   "execution_count": null,
   "metadata": {},
   "outputs": [],
   "source": []
  }
 ],
 "metadata": {
  "kernelspec": {
   "display_name": "Python 3",
   "language": "python",
   "name": "python3"
  },
  "language_info": {
   "codemirror_mode": {
    "name": "ipython",
    "version": 3
   },
   "file_extension": ".py",
   "mimetype": "text/x-python",
   "name": "python",
   "nbconvert_exporter": "python",
   "pygments_lexer": "ipython3",
   "version": "3.8.3"
  }
 },
 "nbformat": 4,
 "nbformat_minor": 4
}
